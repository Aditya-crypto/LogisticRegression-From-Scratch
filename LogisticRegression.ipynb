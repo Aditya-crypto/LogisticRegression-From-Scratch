{
 "cells": [
  {
   "cell_type": "markdown",
   "metadata": {
    "colab_type": "text",
    "id": "QcqhRJJhDXfl"
   },
   "source": [
    "## Q2 LOGISTIC REGRESSION"
   ]
  },
  {
   "cell_type": "markdown",
   "metadata": {
    "colab_type": "text",
    "id": "Q-mhTRq86hRK"
   },
   "source": [
    "## Importing Libraries"
   ]
  },
  {
   "cell_type": "code",
   "execution_count": 0,
   "metadata": {
    "colab": {},
    "colab_type": "code",
    "id": "u_cFSRtJDPGC"
   },
   "outputs": [],
   "source": [
    "from PIL import Image\n",
    "import numpy as np\n",
    "import sys\n",
    "import os\n",
    "import csv\n",
    "import pandas as pd\n",
    "from scipy.linalg import eigh"
   ]
  },
  {
   "cell_type": "markdown",
   "metadata": {
    "colab_type": "text",
    "id": "sJj3UQvwDzn0"
   },
   "source": [
    "# Generating name of files"
   ]
  },
  {
   "cell_type": "code",
   "execution_count": 0,
   "metadata": {
    "colab": {},
    "colab_type": "code",
    "id": "zqEKWRbwrK9V"
   },
   "outputs": [],
   "source": [
    "def FileList(myDir, format='.jpg'):\n",
    "    fileList = []\n",
    "#     print(myDir)\n",
    "    ext=\".jpg\"\n",
    "    for root,dirs, files in os.walk(myDir, topdown=False):\n",
    "        for name in files:\n",
    "            if name.endswith(format):\n",
    "                fullName = os.path.join(name,ext)\n",
    "                fileList.append(name)\n",
    "    return fileList"
   ]
  },
  {
   "cell_type": "code",
   "execution_count": 0,
   "metadata": {
    "colab": {
     "base_uri": "https://localhost:8080/",
     "height": 54
    },
    "colab_type": "code",
    "id": "DYh5DC0OspN6",
    "outputId": "ffe2e0b7-68bd-4551-f462-704e34ebfb03",
    "scrolled": true
   },
   "outputs": [
    {
     "name": "stdout",
     "output_type": "stream",
     "text": [
      "['000_000.jpg', '000_001.jpg', '000_002.jpg', '000_003.jpg', '000_004.jpg', '000_005.jpg', '000_006.jpg', '000_007.jpg', '000_008.jpg', '000_009.jpg', '000_010.jpg', '000_011.jpg', '000_012.jpg', '000_013.jpg', '000_014.jpg', '000_015.jpg', '000_016.jpg', '000_017.jpg', '000_018.jpg', '000_019.jpg', '000_020.jpg', '000_021.jpg', '000_022.jpg', '000_023.jpg', '000_024.jpg', '000_025.jpg', '000_026.jpg', '000_027.jpg', '000_028.jpg', '000_029.jpg', '000_030.jpg', '000_031.jpg', '000_032.jpg', '000_033.jpg', '000_034.jpg', '000_035.jpg', '000_036.jpg', '000_037.jpg', '000_038.jpg', '000_039.jpg', '000_040.jpg', '000_041.jpg', '000_042.jpg', '000_043.jpg', '000_044.jpg', '000_045.jpg', '000_046.jpg', '000_047.jpg', '000_048.jpg', '000_049.jpg', '000_050.jpg', '000_051.jpg', '000_052.jpg', '000_053.jpg', '000_054.jpg', '000_055.jpg', '000_056.jpg', '000_057.jpg', '000_058.jpg', '000_059.jpg', '000_060.jpg', '000_061.jpg', '000_062.jpg', '000_063.jpg', '000_064.jpg', '001_000.jpg', '001_001.jpg', '001_002.jpg', '001_003.jpg', '001_004.jpg', '001_005.jpg', '001_006.jpg', '001_007.jpg', '001_008.jpg', '001_009.jpg', '001_010.jpg', '001_011.jpg', '001_012.jpg', '001_013.jpg', '001_014.jpg', '001_015.jpg', '001_016.jpg', '001_017.jpg', '001_018.jpg', '001_019.jpg', '001_020.jpg', '001_021.jpg', '001_022.jpg', '001_023.jpg', '001_024.jpg', '001_025.jpg', '001_026.jpg', '001_027.jpg', '001_028.jpg', '001_029.jpg', '001_030.jpg', '001_031.jpg', '001_032.jpg', '001_033.jpg', '001_034.jpg', '001_035.jpg', '001_036.jpg', '001_037.jpg', '001_038.jpg', '001_039.jpg', '001_040.jpg', '001_041.jpg', '001_042.jpg', '001_043.jpg', '001_044.jpg', '001_045.jpg', '001_046.jpg', '001_047.jpg', '001_048.jpg', '001_049.jpg', '001_050.jpg', '001_051.jpg', '001_052.jpg', '001_053.jpg', '001_054.jpg', '001_055.jpg', '001_056.jpg', '001_057.jpg', '001_058.jpg', '001_059.jpg', '001_060.jpg', '001_061.jpg', '001_062.jpg', '001_063.jpg', '001_064.jpg', '002_000.jpg', '002_001.jpg', '002_002.jpg', '002_003.jpg', '002_004.jpg', '002_005.jpg', '002_006.jpg', '002_007.jpg', '002_008.jpg', '002_009.jpg', '002_010.jpg', '002_011.jpg', '002_012.jpg', '002_013.jpg', '002_014.jpg', '002_015.jpg', '002_016.jpg', '002_017.jpg', '002_018.jpg', '002_019.jpg', '002_020.jpg', '002_021.jpg', '002_022.jpg', '002_023.jpg', '002_024.jpg', '002_025.jpg', '002_026.jpg', '002_027.jpg', '002_028.jpg', '002_029.jpg', '002_030.jpg', '002_031.jpg', '002_032.jpg', '002_033.jpg', '002_034.jpg', '002_035.jpg', '002_036.jpg', '002_037.jpg', '002_038.jpg', '002_039.jpg', '002_040.jpg', '002_041.jpg', '002_042.jpg', '002_043.jpg', '002_044.jpg', '002_045.jpg', '002_046.jpg', '002_047.jpg', '002_048.jpg', '002_049.jpg', '002_050.jpg', '002_051.jpg', '002_052.jpg', '002_053.jpg', '002_054.jpg', '002_055.jpg', '002_056.jpg', '002_057.jpg', '002_058.jpg', '002_059.jpg', '002_060.jpg', '002_061.jpg', '002_062.jpg', '002_063.jpg', '002_064.jpg', '003_000.jpg', '003_001.jpg', '003_002.jpg', '003_003.jpg', '003_004.jpg', '003_005.jpg', '003_006.jpg', '003_007.jpg', '003_008.jpg', '003_009.jpg', '003_010.jpg', '003_011.jpg', '003_012.jpg', '003_013.jpg', '003_014.jpg', '003_015.jpg', '003_016.jpg', '003_017.jpg', '003_018.jpg', '003_019.jpg', '003_020.jpg', '003_021.jpg', '003_022.jpg', '003_023.jpg', '003_024.jpg', '003_025.jpg', '003_026.jpg', '003_027.jpg', '003_028.jpg', '003_029.jpg', '003_030.jpg', '003_031.jpg', '003_032.jpg', '003_033.jpg', '003_034.jpg', '003_035.jpg', '003_036.jpg', '003_037.jpg', '003_038.jpg', '003_039.jpg', '003_040.jpg', '003_041.jpg', '003_042.jpg', '003_043.jpg', '003_044.jpg', '003_045.jpg', '003_046.jpg', '003_047.jpg', '003_048.jpg', '003_049.jpg', '003_050.jpg', '003_051.jpg', '003_052.jpg', '003_053.jpg', '003_054.jpg', '003_055.jpg', '003_056.jpg', '003_057.jpg', '003_058.jpg', '003_059.jpg', '003_060.jpg', '003_061.jpg', '003_062.jpg', '003_063.jpg', '003_064.jpg', '004_000.jpg', '004_001.jpg', '004_002.jpg', '004_003.jpg', '004_004.jpg', '004_005.jpg', '004_006.jpg', '004_007.jpg', '004_008.jpg', '004_009.jpg', '004_010.jpg', '004_011.jpg', '004_012.jpg', '004_013.jpg', '004_014.jpg', '004_015.jpg', '004_016.jpg', '004_017.jpg', '004_018.jpg', '004_019.jpg', '004_020.jpg', '004_021.jpg', '004_022.jpg', '004_023.jpg', '004_024.jpg', '004_025.jpg', '004_026.jpg', '004_027.jpg', '004_028.jpg', '004_029.jpg', '004_030.jpg', '004_031.jpg', '004_032.jpg', '004_033.jpg', '004_034.jpg', '004_035.jpg', '004_036.jpg', '004_037.jpg', '004_038.jpg', '004_039.jpg', '004_040.jpg', '004_041.jpg', '004_042.jpg', '004_043.jpg', '004_044.jpg', '004_045.jpg', '004_046.jpg', '004_047.jpg', '004_048.jpg', '004_049.jpg', '004_050.jpg', '004_051.jpg', '004_052.jpg', '004_053.jpg', '004_054.jpg', '004_055.jpg', '004_056.jpg', '004_057.jpg', '004_058.jpg', '004_059.jpg', '004_060.jpg', '004_061.jpg', '004_062.jpg', '004_063.jpg', '004_064.jpg', '005_000.jpg', '005_001.jpg', '005_002.jpg', '005_003.jpg', '005_004.jpg', '005_005.jpg', '005_006.jpg', '005_007.jpg', '005_008.jpg', '005_009.jpg', '005_010.jpg', '005_011.jpg', '005_012.jpg', '005_013.jpg', '005_014.jpg', '005_015.jpg', '005_016.jpg', '005_017.jpg', '005_018.jpg', '005_019.jpg', '005_020.jpg', '005_021.jpg', '005_022.jpg', '005_023.jpg', '005_024.jpg', '005_025.jpg', '005_026.jpg', '005_027.jpg', '005_028.jpg', '005_029.jpg', '005_030.jpg', '005_031.jpg', '005_032.jpg', '005_033.jpg', '005_034.jpg', '005_035.jpg', '005_036.jpg', '005_037.jpg', '005_038.jpg', '005_039.jpg', '005_040.jpg', '005_041.jpg', '005_042.jpg', '005_043.jpg', '005_044.jpg', '005_045.jpg', '005_046.jpg', '005_047.jpg', '005_048.jpg', '005_049.jpg', '005_050.jpg', '005_051.jpg', '005_052.jpg', '005_053.jpg', '005_054.jpg', '005_055.jpg', '005_056.jpg', '005_057.jpg', '005_058.jpg', '005_059.jpg', '005_060.jpg', '005_061.jpg', '005_062.jpg', '005_063.jpg', '005_064.jpg', '006_000.jpg', '006_001.jpg', '006_002.jpg', '006_003.jpg', '006_004.jpg', '006_005.jpg', '006_006.jpg', '006_007.jpg', '006_008.jpg', '006_009.jpg', '006_010.jpg', '006_011.jpg', '006_012.jpg', '006_013.jpg', '006_014.jpg', '006_015.jpg', '006_016.jpg', '006_017.jpg', '006_018.jpg', '006_019.jpg', '006_020.jpg', '006_021.jpg', '006_022.jpg', '006_023.jpg', '006_024.jpg', '006_025.jpg', '006_026.jpg', '006_027.jpg', '006_028.jpg', '006_029.jpg', '006_030.jpg', '006_031.jpg', '006_032.jpg', '006_033.jpg', '006_034.jpg', '006_035.jpg', '006_036.jpg', '006_037.jpg', '006_038.jpg', '006_039.jpg', '006_040.jpg', '006_041.jpg', '006_042.jpg', '006_043.jpg', '006_044.jpg', '006_045.jpg', '006_046.jpg', '006_047.jpg', '006_048.jpg', '006_049.jpg', '006_050.jpg', '006_051.jpg', '006_052.jpg', '006_053.jpg', '006_054.jpg', '006_055.jpg', '006_056.jpg', '006_057.jpg', '006_058.jpg', '006_059.jpg', '006_060.jpg', '006_061.jpg', '006_062.jpg', '006_063.jpg', '006_064.jpg', '007_000.jpg', '007_001.jpg', '007_002.jpg', '007_003.jpg', '007_004.jpg', '007_005.jpg', '007_006.jpg', '007_007.jpg', '007_008.jpg', '007_009.jpg', '007_010.jpg', '007_011.jpg', '007_012.jpg', '007_013.jpg', '007_014.jpg', '007_015.jpg', '007_016.jpg', '007_017.jpg', '007_018.jpg', '007_019.jpg', '007_020.jpg', '007_021.jpg', '007_022.jpg', '007_023.jpg', '007_024.jpg', '007_025.jpg', '007_026.jpg', '007_027.jpg', '007_028.jpg', '007_029.jpg', '007_030.jpg', '007_031.jpg', '007_032.jpg', '007_033.jpg', '007_034.jpg', '007_035.jpg', '007_036.jpg', '007_037.jpg', '007_038.jpg', '007_039.jpg', '007_040.jpg', '007_041.jpg', '007_042.jpg', '007_043.jpg', '007_044.jpg', '007_045.jpg', '007_046.jpg', '007_047.jpg', '007_048.jpg', '007_049.jpg', '007_050.jpg', '007_051.jpg', '007_052.jpg', '007_053.jpg', '007_054.jpg', '007_055.jpg', '007_056.jpg', '007_057.jpg', '007_058.jpg', '007_059.jpg', '007_060.jpg', '007_061.jpg', '007_062.jpg', '007_063.jpg', '007_064.jpg']\n"
     ]
    }
   ],
   "source": [
    "filelist=FileList(\"/content/drive/My Drive/Dataset/\")\n",
    "filelist.sort()\n",
    "print(filelist)"
   ]
  },
  {
   "cell_type": "markdown",
   "metadata": {
    "colab_type": "text",
    "id": "97oOAmhUD6Zq"
   },
   "source": [
    "# Making Of DataFrame"
   ]
  },
  {
   "cell_type": "code",
   "execution_count": 0,
   "metadata": {
    "colab": {},
    "colab_type": "code",
    "id": "yWi2C7Kq0ONM"
   },
   "outputs": [],
   "source": [
    "imageset=[]\n",
    "for file in filelist:\n",
    "    im1= Image.open(\"/content/drive/My Drive/Dataset/\"+file)\n",
    "    newsize = (64,64) \n",
    "    im1 = im1.resize(newsize) \n",
    "#     # Make image Greyscale\n",
    "    im1 = im1.convert('L')\n",
    "#     # Save Greyscale values\n",
    "    value = np.asarray(im1.getdata(), dtype=np.int)\n",
    "    value = value.flatten()\n",
    "    imageset.append(value)\n"
   ]
  },
  {
   "cell_type": "markdown",
   "metadata": {
    "colab_type": "text",
    "id": "N_cF8utPED5B"
   },
   "source": [
    "# Feature Scaling"
   ]
  },
  {
   "cell_type": "code",
   "execution_count": 0,
   "metadata": {
    "colab": {},
    "colab_type": "code",
    "id": "6uXUq7gLB2nj"
   },
   "outputs": [],
   "source": [
    "from sklearn.preprocessing import StandardScaler\n",
    "imageset=pd.DataFrame(imageset)\n",
    "# feature scaling\n",
    "scaler = StandardScaler()\n",
    "imageset=scaler.fit_transform(imageset)"
   ]
  },
  {
   "cell_type": "code",
   "execution_count": 0,
   "metadata": {
    "colab": {
     "base_uri": "https://localhost:8080/",
     "height": 243
    },
    "colab_type": "code",
    "id": "tVEBDBJ1GTFJ",
    "outputId": "7b5dadcc-69d0-4baf-9782-a106e2288cd2"
   },
   "outputs": [
    {
     "name": "stdout",
     "output_type": "stream",
     "text": [
      "[[ 1.40233900e+01  2.26536097e+01 -1.21611789e+00 ... -5.18312513e-02\n",
      "  -2.85428852e-01  2.78258206e-01]\n",
      " [-1.51477303e+01  1.51782985e+01 -3.89438046e+00 ... -1.31425029e-02\n",
      "   2.77448230e-01  5.30562596e-02]\n",
      " [ 5.32835179e+00 -1.62042300e+01  1.05197750e+01 ...  8.31007432e-01\n",
      "  -5.29106689e-02 -5.54865330e-01]\n",
      " ...\n",
      " [-1.56864569e+01 -4.93055853e+00  1.37229427e+01 ...  2.12371123e-01\n",
      "  -4.48827290e-01  3.69299647e-01]\n",
      " [ 9.37565772e+00 -3.42285526e+01 -1.26439816e+00 ... -1.48577164e-01\n",
      "   4.29235081e-01 -1.82311956e-01]\n",
      " [ 6.52242096e+00 -4.37569852e+01  8.85894793e-01 ...  2.09911328e-01\n",
      "  -3.57699262e-01 -2.78176179e-02]]\n"
     ]
    }
   ],
   "source": [
    "print(imageset)"
   ]
  },
  {
   "cell_type": "markdown",
   "metadata": {
    "colab_type": "text",
    "id": "fPl65U2DEMGi"
   },
   "source": [
    "# PCA Function"
   ]
  },
  {
   "cell_type": "code",
   "execution_count": 0,
   "metadata": {
    "colab": {},
    "colab_type": "code",
    "id": "9Xny6-nsBUUm"
   },
   "outputs": [],
   "source": [
    "def PCA(A,K):\n",
    "    covarMat=np.cov(A.T)\n",
    "    values, vectors=eigh(covarMat)\n",
    "    idx= np.argsort(values)\n",
    "    idx = idx[::-1]\n",
    "    eigvec = vectors[:,idx]\n",
    "    eigval = values[idx]\n",
    "    subeigvec=eigvec[:,:K]\n",
    "    newdata=np.dot(A,subeigvec)\n",
    "    return newdata"
   ]
  },
  {
   "cell_type": "markdown",
   "metadata": {
    "colab_type": "text",
    "id": "IcnZ8b0KFnFM"
   },
   "source": [
    "# Applying PCA and taking 400 Components"
   ]
  },
  {
   "cell_type": "code",
   "execution_count": 0,
   "metadata": {
    "colab": {
     "base_uri": "https://localhost:8080/",
     "height": 34
    },
    "colab_type": "code",
    "id": "XTmKqVfz2Qse",
    "outputId": "86b101f6-fef3-4f9d-d0b0-c6bcf5bc3393"
   },
   "outputs": [
    {
     "name": "stdout",
     "output_type": "stream",
     "text": [
      "(520, 400)\n"
     ]
    }
   ],
   "source": [
    "# print(imageset.shape)\n",
    "imageset=PCA(imageset,400)\n",
    "print(imageset.shape)"
   ]
  },
  {
   "cell_type": "code",
   "execution_count": 0,
   "metadata": {
    "colab": {},
    "colab_type": "code",
    "id": "wXeWyBkJ05PL"
   },
   "outputs": [],
   "source": [
    "from sklearn.model_selection import train_test_split\n",
    "df=np.array(imageset)\n",
    "li=[1.0]*(df.shape[0])\n",
    "li=np.array(li)\n",
    "li.shape=(520,1)\n",
    "df= np.hstack((li,df))\n"
   ]
  },
  {
   "cell_type": "markdown",
   "metadata": {
    "colab_type": "text",
    "id": "NLopdYV8LXQ-"
   },
   "source": [
    "# Splitting DataFrame into train and test data"
   ]
  },
  {
   "cell_type": "code",
   "execution_count": 0,
   "metadata": {
    "colab": {},
    "colab_type": "code",
    "id": "DkpELXvha8LA"
   },
   "outputs": [],
   "source": [
    "# construction of test data\n",
    "actual_labels=[]\n",
    "for i in range(0,8):\n",
    "    for j in range(0,65):\n",
    "        actual_labels.append(i)\n",
    "actual_labels=np.array(actual_labels)\n",
    "#splitting of data\n",
    "X_train, X_test, y_train, y_test = train_test_split(df,actual_labels, test_size=0.2)"
   ]
  },
  {
   "cell_type": "code",
   "execution_count": 0,
   "metadata": {
    "colab": {
     "base_uri": "https://localhost:8080/",
     "height": 86
    },
    "colab_type": "code",
    "id": "VDFl2EFVMRrP",
    "outputId": "b54f1af1-9b2c-43a4-f4a6-4f7f2d1e8479"
   },
   "outputs": [
    {
     "name": "stdout",
     "output_type": "stream",
     "text": [
      "(416, 401)\n",
      "(104, 401)\n",
      "(416, 1)\n",
      "(104,)\n"
     ]
    }
   ],
   "source": [
    "print(X_train.shape)\n",
    "print(X_test.shape)\n",
    "print(y_train.shape)\n",
    "print(y_test.shape)"
   ]
  },
  {
   "cell_type": "markdown",
   "metadata": {
    "colab_type": "text",
    "id": "QHmJmoHYM26d"
   },
   "source": [
    "# LOGISTIC REGRESSION"
   ]
  },
  {
   "cell_type": "code",
   "execution_count": 0,
   "metadata": {
    "colab": {},
    "colab_type": "code",
    "id": "5IDODKb_nD_4"
   },
   "outputs": [],
   "source": [
    "def logisticfun(z):\n",
    "  return 1.0 / (1 + np.exp(-z))"
   ]
  },
  {
   "cell_type": "markdown",
   "metadata": {
    "colab_type": "text",
    "id": "RU_-2oLFNgRw"
   },
   "source": [
    "# Training Model"
   ]
  },
  {
   "cell_type": "code",
   "execution_count": 0,
   "metadata": {
    "colab": {},
    "colab_type": "code",
    "id": "MxqFBHzZ2KF3"
   },
   "outputs": [],
   "source": [
    "def fit(parameters,X_train,y_train):\n",
    "  alpha=0.02\n",
    "  for j in range(0,1000):\n",
    "    z=np.dot(X_train,parameters)\n",
    "    pred_list=logisticfun(z)\n",
    "    predlist=np.asarray(pred_list)\n",
    "    predlist=np.subtract(predlist,y_train)\n",
    "    df1=X_train.transpose()\n",
    "    intermediate= np.dot(df1,predlist)\n",
    "    # print(intermediate.shape)\n",
    "    for i in range(0,401):\n",
    "      intermediate[i]=intermediate[i]*(1/y_train.shape[0])\n",
    "    intermediate*=alpha\n",
    "    parameters=np.subtract(parameters,intermediate)\n",
    "  # print(parameters)\n",
    "  return parameters"
   ]
  },
  {
   "cell_type": "markdown",
   "metadata": {
    "colab_type": "text",
    "id": "J53n_rKGNafB"
   },
   "source": [
    "# Initializing Parameters"
   ]
  },
  {
   "cell_type": "code",
   "execution_count": 0,
   "metadata": {
    "colab": {
     "base_uri": "https://localhost:8080/",
     "height": 34
    },
    "colab_type": "code",
    "id": "ZDu18xUXcvxL",
    "outputId": "58408f85-53f3-479f-9f94-669fae315a05"
   },
   "outputs": [
    {
     "data": {
      "text/plain": [
       "(401, 1)"
      ]
     },
     "execution_count": 22,
     "metadata": {
      "tags": []
     },
     "output_type": "execute_result"
    }
   ],
   "source": [
    "parameters = np.zeros(X_train.shape[1])\n",
    "parameters=np.expand_dims(parameters, axis=1)\n",
    "parameters.shape"
   ]
  },
  {
   "cell_type": "markdown",
   "metadata": {
    "colab_type": "text",
    "id": "PV0LIdHxODkE"
   },
   "source": [
    "# MultiClass Classification in Logistic Regression"
   ]
  },
  {
   "cell_type": "code",
   "execution_count": 0,
   "metadata": {
    "colab": {
     "base_uri": "https://localhost:8080/",
     "height": 34
    },
    "colab_type": "code",
    "id": "lIE8Vw4f8iCa",
    "outputId": "b6af8ff7-1a05-4fdd-add9-573a0b990fff"
   },
   "outputs": [
    {
     "data": {
      "text/plain": [
       "(401, 1)"
      ]
     },
     "execution_count": 23,
     "metadata": {
      "tags": []
     },
     "output_type": "execute_result"
    }
   ],
   "source": [
    "Rparameters=[]\n",
    "temp=[]\n",
    "for i in range(0,8):\n",
    "  temp=y_train\n",
    "  for j in range(0,X_train.shape[0]):\n",
    "    if(y_train[j]==i):\n",
    "      temp[j]=1\n",
    "    else:\n",
    "      temp[j]=0\n",
    "  temp.shape=(y_train.shape[0],1)\n",
    "  Rparameters.append(fit(parameters,X_train,temp))\n",
    "Rparameters[0].shape\n",
    "# print(Rparameters[1])"
   ]
  },
  {
   "cell_type": "markdown",
   "metadata": {
    "colab_type": "text",
    "id": "yPsTpEu-Qiog"
   },
   "source": [
    "# Prediction Function"
   ]
  },
  {
   "cell_type": "code",
   "execution_count": 0,
   "metadata": {
    "colab": {},
    "colab_type": "code",
    "id": "9HiH7qxmbd3n"
   },
   "outputs": [],
   "source": [
    "def predict_prob(X_test,Rparameters):\n",
    "  problist=[]\n",
    "  for k in range(0,X_test.shape[0]):\n",
    "    temp=[]\n",
    "    for i in range(0,8):\n",
    "      temp.append(logisticfun(np.dot(X_test[k,:],Rparameters[i])))\n",
    "    # print(temp)\n",
    "    maxpos = temp.index(max(temp))\n",
    "    # print(maxpos)\n",
    "    problist.append(maxpos)\n",
    "  return problist"
   ]
  },
  {
   "cell_type": "code",
   "execution_count": 0,
   "metadata": {
    "colab": {},
    "colab_type": "code",
    "id": "NpL_NJI4nAan"
   },
   "outputs": [],
   "source": [
    "t_predlist=predict_prob(X_test,Rparameters)"
   ]
  },
  {
   "cell_type": "code",
   "execution_count": 0,
   "metadata": {
    "colab": {},
    "colab_type": "code",
    "id": "ooyMhkd74geM"
   },
   "outputs": [],
   "source": [
    "t_pred=np.array(t_predlist)\n",
    "t_pred.shape=(y_test.shape[0],1)"
   ]
  },
  {
   "cell_type": "markdown",
   "metadata": {
    "colab_type": "text",
    "id": "zbdcGeVOReui"
   },
   "source": [
    "# Accuracy Score"
   ]
  },
  {
   "cell_type": "code",
   "execution_count": 0,
   "metadata": {
    "colab": {
     "base_uri": "https://localhost:8080/",
     "height": 34
    },
    "colab_type": "code",
    "id": "2VqAAdlmgHYk",
    "outputId": "be1a3340-4659-478a-8aae-da9186c68cfe"
   },
   "outputs": [
    {
     "name": "stdout",
     "output_type": "stream",
     "text": [
      "0.5442307692307692\n"
     ]
    }
   ],
   "source": [
    "from sklearn.metrics import accuracy_score\n",
    "accuracy_score(y_test, t_pred)"
   ]
  }
 ],
 "metadata": {
  "colab": {
   "collapsed_sections": [],
   "name": "q2a3.ipynb",
   "provenance": []
  },
  "kernelspec": {
   "display_name": "Python 3",
   "language": "python",
   "name": "python3"
  },
  "language_info": {
   "codemirror_mode": {
    "name": "ipython",
    "version": 3
   },
   "file_extension": ".py",
   "mimetype": "text/x-python",
   "name": "python",
   "nbconvert_exporter": "python",
   "pygments_lexer": "ipython3",
   "version": "3.6.9"
  }
 },
 "nbformat": 4,
 "nbformat_minor": 1
}
